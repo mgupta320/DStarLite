{
 "cells": [
  {
   "cell_type": "markdown",
   "id": "0d6647ac",
   "metadata": {},
   "source": [
    "# Exploration into D*-Lite in simulated 3D terrain\n",
    "The purpose of this notebook is to explore the D* Lite algorithm and its performance as compared to A* when path-planning in 3D terrain. The initial path planning will be done on coarse estimated 3D terrain and updated as more fine detail is learned about the terrain."
   ]
  },
  {
   "cell_type": "markdown",
   "id": "1523ad11",
   "metadata": {},
   "source": [
    "### Autoreload modules\n",
    "**ALWAYS RUN THIS DURING DEVELOPMENT.**\n",
    "\n",
    "Run this cell to make sure that modules are automatically reloaded as changes are made and the kernel does not need to be restarted."
   ]
  },
  {
   "cell_type": "code",
   "execution_count": 1,
   "id": "a697f2d2",
   "metadata": {},
   "outputs": [],
   "source": [
    "%load_ext autoreload\n",
    "%autoreload 2"
   ]
  },
  {
   "cell_type": "markdown",
   "id": "26879c49",
   "metadata": {},
   "source": [
    "## Tasks\n",
    "These are the following steps that have been and still need to be completed:\n",
    "- [x] Creating random terrain \n",
    "  - [x] Terrain should have varying levels of resolution, scale, and detail\n",
    "  - [x] Terrain should be generated at coarse and fine levels of detail\n",
    "- [x] Creating a grid map\n",
    "  - [x] Discretize each x,y,z point of map into nodes\n",
    "  - [x] Map the successors, predecessors, and edges connected to each node\n",
    "  - [x] Create a container which can house all nodes\n",
    "- [x] Implementing A*\n",
    "  - [x] Write A* algorithm using grid map and edge costs\n",
    "  - [x] Assign start and goal and create path \n",
    "  - [x] Display A* path (nodes travelled) on terrain map\n",
    "- [x] Implementing D*-Lite\n",
    "  - [x] Updating edge costs to grid map\n",
    "  - [x] Rescan ability to grid map\n",
    "  - [x] Write D*-Lite algorithm using grid map and edge costs\n",
    "  - [x] Assign start and goal and create path\n",
    "  - [x] Display D*-Lite path and recalculated path (nodes travelled) on terrain map\n",
    "- [ ] Compare methods\n",
    "  - [ ] Create quantititave performance analysis of computation time, cost of path\n",
    "  - [ ] A* computed on fine terrain and performed on fine terrain (Baseline)\n",
    "  - [ ] A* computed on coarse terrain and performed on fine terrain (Current approach)\n",
    "  - [ ] A* computed on coarse terrain and performed on fine terrain with recalculating on update (Next approach) \n",
    "  - [ ] D*-Lite computed on coarse terrain and performed on fine terrain (Proposed approach)\n",
    "- [ ] Possible simulation improvements\n",
    "  - [ ] Add large obstacles to terrain\n",
    "  - [ ] Adding enemy sightline simulation\n",
    "  - [ ] Make simulated terrain non-square"
   ]
  },
  {
   "cell_type": "markdown",
   "id": "5b6b82c0",
   "metadata": {},
   "source": [
    "## Creating Terrain\n",
    "The first step is to create simulated terrain. A common technique to create random terrain is to use specific kinds of noises that create terrain-like shapes. In this example, we use simplex noise, one of the most commonly used typs of noise for generation of terrain."
   ]
  },
  {
   "cell_type": "markdown",
   "id": "e36cb999",
   "metadata": {},
   "source": [
    "### Import and Setup\n",
    "Setup Jupyter Notebook with all important settings. \n",
    "\n",
    "To make graphic maps interactable, change\n",
    "`%matplotlib inline` \n",
    "to\n",
    "`%matplotlib qt`"
   ]
  },
  {
   "cell_type": "code",
   "execution_count": 2,
   "id": "ed4b11ed",
   "metadata": {},
   "outputs": [],
   "source": [
    "%matplotlib inline\n",
    "import noise\n",
    "import math\n",
    "import numpy as np\n",
    "import matplotlib.pyplot as plt\n",
    "from mpl_toolkits.mplot3d import axes3d\n",
    "from random import randrange\n",
    "import time"
   ]
  },
  {
   "cell_type": "markdown",
   "id": "ff3aa99d",
   "metadata": {},
   "source": [
    "### Setup terrain hyperparameters\n",
    "The noise consists of a different hyperparameters:\n",
    "- resolution: How many \"pixels\" are used to represent terrain. *NOT* the coarseness or fineness of the map detail.\n",
    "- scale: How large an area is being mapped (e.g `scale = 1.5` mean each \"pixel\"/node represents a 1.5x1.5 area).\n",
    "- octaves: The level of detail of the terrain. Used to simulate coarse (small amount of octaves) and fine (large amount of octaves) detail of the terrain. An increase by 3 octaves from coarse to fine seems to result in the best looking terrain.\n",
    "- random_seed: If random_seed is True, the offset is randomly chosen. If False, offset is set to 0. Python noise generation methods are not random and the same offset will produce the same results.\n",
    "- min_height and max_height: The coarse map is scaled so the lowest point of the map is min_height and the highest point is max_height. The fine map is scaled to the coarse map to preserve the original relationship betwewn the values of the two maps.\n"
   ]
  },
  {
   "cell_type": "code",
   "execution_count": 3,
   "id": "de309919",
   "metadata": {},
   "outputs": [],
   "source": [
    "resolution = 200\n",
    "scale = 2.0\n",
    "coarse_octaves = 1\n",
    "fine_octaves = 4\n",
    "random_seed = False\n",
    "min_height = 0.0\n",
    "max_height = float(resolution)"
   ]
  },
  {
   "cell_type": "markdown",
   "id": "3ebe9761",
   "metadata": {},
   "source": [
    "### Create terrain\n",
    "\n",
    "The noise is generated according to the parameters as defined above."
   ]
  },
  {
   "cell_type": "code",
   "execution_count": 4,
   "id": "39024046",
   "metadata": {},
   "outputs": [],
   "source": [
    "if random_seed:\n",
    "    offset = randrange(100)\n",
    "else:\n",
    "    offset = 0\n",
    "\n",
    "shape = (resolution, resolution)\n",
    "rough_world = np.zeros(shape)\n",
    "fine_world = np.zeros(shape)\n",
    "\n",
    "for i in range(resolution):\n",
    "    for j in range(resolution):\n",
    "        rough_world[i][j] = noise.snoise2(i*scale/resolution, \n",
    "                                    j*scale/resolution, \n",
    "                                    octaves=coarse_octaves,  \n",
    "                                    base=offset)\n",
    "        fine_world[i][j] = noise.snoise2(i*scale/resolution, \n",
    "                                    j*scale/resolution, \n",
    "                                    octaves=fine_octaves, \n",
    "                                    base=offset)"
   ]
  },
  {
   "cell_type": "markdown",
   "id": "d28bd7a1",
   "metadata": {},
   "source": [
    "The noise is then scaled to min and max height to create terrain."
   ]
  },
  {
   "cell_type": "code",
   "execution_count": 5,
   "id": "e17e4a2b",
   "metadata": {},
   "outputs": [],
   "source": [
    "fine_world = (fine_world-np.min(rough_world)) / (np.max(rough_world)-np.min(rough_world)) #scale fine world according to coarse world\n",
    "fine_world = min_height + (max_height-min_height) * fine_world\n",
    "\n",
    "rough_world = (rough_world-np.min(rough_world)) / (np.max(rough_world)-np.min(rough_world)) #scale coarse world between 0.0 and 1.0\n",
    "rough_world = min_height + (max_height-min_height) * rough_world"
   ]
  },
  {
   "cell_type": "markdown",
   "id": "75800d7c",
   "metadata": {},
   "source": [
    "### Display Terrain\n",
    "We now display the terrain both as 2D bird'eye views of the terrain and 3D views of the terrain.\n",
    "#### Bird's Eye View"
   ]
  },
  {
   "cell_type": "code",
   "execution_count": 6,
   "id": "068f3a7f",
   "metadata": {},
   "outputs": [],
   "source": [
    "fig_t_be, axs = plt.subplots(1,2)\n",
    "fig_t_be.suptitle(\"Bird's eye view of generated terrain\")\n",
    "axs[0].imshow(rough_world,cmap='terrain')\n",
    "axs[0].set_title('Coarse Terrain Estimate')             \n",
    "axs[1].imshow(fine_world,cmap='terrain')\n",
    "axs[1].set_title('Fine Terrain Detail')    "
   ]
  },
  {
   "cell_type": "markdown",
   "id": "71e51caf",
   "metadata": {},
   "source": [
    "#### 3D View of Terrain"
   ]
  },
  {
   "cell_type": "code",
   "execution_count": 7,
   "id": "aae447be",
   "metadata": {},
   "outputs": [],
   "source": [
    "lin_x = np.linspace(0,resolution,resolution,endpoint=False)\n",
    "lin_y = np.linspace(0,resolution,resolution,endpoint=False)\n",
    "x,y = np.meshgrid(lin_x,lin_y)\n",
    "\n",
    "fig_t_3d = plt.figure()\n",
    "fig_t_3d.suptitle(\"3D View of Terrain\")\n",
    "ax_rough = fig_t_3d.add_subplot(121, projection=\"3d\")\n",
    "ax_rough.plot_surface(y,x,rough_world,cmap='terrain')\n",
    "ax_rough.set_title('Coarse Terrain Estimate')\n",
    "\n",
    "ax_fine = fig_t_3d.add_subplot(122, projection=\"3d\")\n",
    "ax_fine.plot_surface(y,x,fine_world,cmap='terrain')\n",
    "ax_fine.set_title('Fine Terrain Detail')"
   ]
  },
  {
   "cell_type": "markdown",
   "id": "5ebdddb6",
   "metadata": {},
   "source": [
    "## Creating Grid Map\n",
    "This section is implemented in `src/utils.py` and `src/grid.py`"
   ]
  },
  {
   "cell_type": "code",
   "execution_count": 8,
   "id": "2c6964a2",
   "metadata": {},
   "outputs": [],
   "source": [
    "from src.grid import Grid\n",
    "\n",
    "rough_grid = Grid(rough_world)\n",
    "fine_grid = Grid(fine_world)"
   ]
  },
  {
   "cell_type": "markdown",
   "id": "79b415c2",
   "metadata": {},
   "source": [
    "## A* Path Planning\n",
    "### Baseline A* (No Updates)\n",
    "This section is implemented in the AStar class in `src/astar.py`.\n",
    "Planners are initialized with terrain array and then paths are retrieved from point to point using `get_path(position1, position2)`.\n",
    "The path is returned as a list of positions but can be given as a numpy array of x,y,z positions. "
   ]
  },
  {
   "cell_type": "code",
   "execution_count": 9,
   "id": "45711b59",
   "metadata": {},
   "outputs": [],
   "source": [
    "from src.astar import AStar\n",
    "\n",
    "curr_map = fine_world\n",
    "\n",
    "pathplanner_base = AStar(curr_map)"
   ]
  },
  {
   "cell_type": "markdown",
   "id": "95286093",
   "metadata": {},
   "source": [
    "Time execution of path and calculate cost of path on the fine grid."
   ]
  },
  {
   "cell_type": "code",
   "execution_count": 10,
   "id": "5d676388",
   "metadata": {},
   "outputs": [],
   "source": [
    "start = time.time()\n",
    "path_baseline = pathplanner_base.get_path((10,10), (resolution-10,resolution-10))\n",
    "end = time.time()\n",
    "\n",
    "elapsed_base = end - start\n",
    "cost_base = fine_grid.calc_path_cost(path_baseline)\n",
    "\n",
    "print(f\"AStarBaseline path cost = {cost_base} in {elapsed_base} sec\")"
   ]
  },
  {
   "cell_type": "markdown",
   "id": "186db691",
   "metadata": {},
   "source": [
    "Plot path on the terrain, both bird's eye view and 3D view."
   ]
  },
  {
   "cell_type": "code",
   "execution_count": 11,
   "id": "de0829e2",
   "metadata": {},
   "outputs": [],
   "source": [
    "arr_baseline = fine_grid.path_to_np(path_baseline)\n",
    "\n",
    "xx_baseline = arr_baseline[0, :]\n",
    "yy_baseline = arr_baseline[1, :]\n",
    "zz_baseline = arr_baseline[2, :]\n",
    "\n",
    "fig_as = plt.figure()\n",
    "fig_as.suptitle(\"Terrain with Baseline A* Path\")\n",
    "\n",
    "ax = fig_as.add_subplot(121)\n",
    "ax.imshow(curr_map,cmap='terrain')\n",
    "ax.plot(yy_baseline,xx_baseline, 'r')\n",
    "ax.plot(yy_baseline[0],xx_baseline[0],'r*')\n",
    "ax.plot(yy_baseline[-1],xx_baseline[-1],'rX')\n",
    "ax.set_title(\"Bird's Eyeview Terrain with Path\")\n",
    "\n",
    "ax3 = fig_as.add_subplot(122, projection='3d')\n",
    "ax3.plot_surface(y,x,curr_map,cmap='terrain')\n",
    "ax3.plot(xx_baseline,yy_baseline,zz_baseline,'r.')\n",
    "ax3.plot(xx_baseline[0],yy_baseline[0],zz_baseline[0],'r*')\n",
    "ax3.plot(xx_baseline[-1],yy_baseline[-1],zz_baseline[-1],'rX')\n",
    "ax3.set_title('Terrain with Path')"
   ]
  },
  {
   "cell_type": "markdown",
   "id": "c4b25725",
   "metadata": {},
   "source": [
    "### Naive A* Pathplanning\n",
    "The first approach to planning in partially unknown environments is to simply path plan in the known environemnt and execute that path in the true world without updating based on new information."
   ]
  },
  {
   "cell_type": "code",
   "execution_count": null,
   "id": "1b897102",
   "metadata": {},
   "outputs": [],
   "source": [
    "pathplanner_naive = AStar(rough_world)\n",
    "\n",
    "\n",
    "start = time.time()\n",
    "path_naive = pathplanner_naive.get_path((10,10), (resolution-10,resolution-10))\n",
    "end = time.time()\n",
    "\n",
    "elapsed_naive = end - start\n",
    "cost_naive = fine_grid.calc_path_cost(path_naive)\n",
    "\n",
    "print(f\"AStarNaive path cost = {cost_naive} in {elapsed_naive} sec\")"
   ]
  },
  {
   "cell_type": "markdown",
   "id": "1dcb23a0",
   "metadata": {},
   "source": [
    "Plot naive path from Bird's Eye View and 3D view"
   ]
  },
  {
   "cell_type": "code",
   "execution_count": null,
   "id": "5dd27b7b",
   "metadata": {},
   "outputs": [],
   "source": [
    "arr_naive = fine_grid.path_to_np(path_naive)\n",
    "\n",
    "xx_naive = arr_naive[0, :]\n",
    "yy_naive = arr_naive[1, :]\n",
    "zz_naive = arr_naive[2, :]\n",
    "\n",
    "fig_asn = plt.figure()\n",
    "fig_asn.suptitle(\"Terrain with Naive A* Path\")\n",
    "\n",
    "ax = fig_asn.add_subplot(121)\n",
    "ax.imshow(curr_map,cmap='terrain')\n",
    "ax.plot(yy_naive,xx_naive, 'r')\n",
    "ax.plot(yy_naive[0],xx_naive[0],'r*')\n",
    "ax.plot(yy_naive[-1],xx_naive[-1],'rX')\n",
    "ax.set_title(\"Bird's Eyeview Terrain with Path\")\n",
    "\n",
    "ax3 = fig_asn.add_subplot(122, projection='3d')\n",
    "ax3.plot_surface(y,x,curr_map,cmap='terrain')\n",
    "ax3.plot(xx_naive,yy_naive,zz_naive,'r.')\n",
    "ax3.plot(xx_naive[0],yy_naive[0],zz_naive[0],'r*')\n",
    "ax3.plot(xx_naive[-1],yy_naive[-1],zz_naive[-1],'rX')\n",
    "ax3.set_title('Terrain with Path')"
   ]
  },
  {
   "cell_type": "markdown",
   "id": "55727516",
   "metadata": {},
   "source": [
    "### A* With Updates\n",
    "This section is implemented in the AStarUpdate class in `src/astar.py`. It is used in the same way as the AStar planner except it is initialized with a known terrain array which represents the known information that path planning is done on and a ground truth terrain that updates the known map as rescanning is done.\n",
    "\n",
    "- update_step: How many steps/scans intervals should the path be recalculated. Set to 0 for recalclation to not occur based on interval (default = 1)\n",
    "- scan_radius: How many nodes around the current node are updated in a single scan (default = 1) \n",
    "- err_threshold: How much accumulated error/difference should there be between known grid and true grid before path is recalculated. Set to infinity if never updated based on error (default = math.inf)"
   ]
  },
  {
   "cell_type": "code",
   "execution_count": null,
   "id": "c82536de",
   "metadata": {},
   "outputs": [],
   "source": [
    "from src.astar import AStarUpdate\n",
    "\n",
    "known_map = rough_world\n",
    "true_map = fine_world\n",
    "\n",
    "update_step = 1\n",
    "scan_radius = 5\n",
    "err_threshold = math.inf\n",
    "\n",
    "asu_planner = AStarUpdate(known_map, true_map, update_step, scan_radius, err_threshold)"
   ]
  },
  {
   "cell_type": "markdown",
   "id": "d1640f02",
   "metadata": {},
   "source": [
    "Get path as numpy arrays AFTER calculating path."
   ]
  },
  {
   "cell_type": "code",
   "execution_count": null,
   "id": "25275859",
   "metadata": {},
   "outputs": [],
   "source": [
    "start = time.time()\n",
    "path_asu = asu_planner.get_path((10,10), (resolution-10,resolution-10))\n",
    "end = time.time()\n",
    "\n",
    "elapsed_asu = end - start\n",
    "cost_asu = fine_grid.calc_path_cost(path_asu)\n",
    "\n",
    "print(f\"AStarUpdate path cost = {cost_asu} in {elapsed_asu} sec\")"
   ]
  },
  {
   "cell_type": "markdown",
   "id": "a985d011",
   "metadata": {},
   "source": [
    "Plot path on the terrain, both bird's eye view and 3D view."
   ]
  },
  {
   "cell_type": "code",
   "execution_count": null,
   "id": "f4df7053",
   "metadata": {},
   "outputs": [],
   "source": [
    "arr_asu = asu_planner.get_plt_arrays()\n",
    "\n",
    "xx_asu = arr_asu[0, :]\n",
    "yy_asu = arr_asu[1, :]\n",
    "zz_asu = arr_asu[2, :]\n",
    "\n",
    "fig_asu = plt.figure()\n",
    "fig_asu.suptitle(\"Terrain with A*-Update Path\")\n",
    "\n",
    "ax = fig_asu.add_subplot(121)\n",
    "ax.imshow(true_map,cmap='terrain')\n",
    "ax.plot(yy_asu,xx_asu, 'r')\n",
    "ax.plot(yy_asu[0],xx_asu[0],'r*')\n",
    "ax.plot(yy_asu[-1],xx_asu[-1],'rX')\n",
    "ax.set_title(\"Bird's Eyeview Terrain with Path\")\n",
    "\n",
    "ax3 = fig_asu.add_subplot(122, projection='3d')\n",
    "ax3.plot_surface(y,x,true_map,cmap='terrain')\n",
    "ax3.plot(xx_asu,yy_asu,zz_asu,'r.')\n",
    "ax3.plot(xx_asu[0],yy_asu[0],zz_asu[0],'r*')\n",
    "ax3.plot(xx_asu[-1],yy_asu[-1],zz_asu[-1],'rX')\n",
    "ax3.set_title('Terrain with Path')"
   ]
  },
  {
   "cell_type": "markdown",
   "id": "06cf8a26",
   "metadata": {},
   "source": [
    "Display original map planning was done on, the final map with the updated information, and the ground truth map."
   ]
  },
  {
   "cell_type": "code",
   "execution_count": null,
   "id": "26f2e0cb",
   "metadata": {},
   "outputs": [],
   "source": [
    "final_known_terrain = asu_planner.known_grid.to_np()\n",
    "\n",
    "fig_learn = plt.figure()\n",
    "fig_learn.suptitle(\"Map of what A*-Update knows\")\n",
    "ax1 = fig_learn.add_subplot(131)\n",
    "ax1.imshow(known_map, cmap='terrain')\n",
    "ax1.set_title(\"Original known map\")\n",
    "ax2 = fig_learn.add_subplot(132)\n",
    "ax2.imshow(final_known_terrain, cmap='terrain')\n",
    "ax2.set_title(\"Final known map\")\n",
    "ax3 = fig_learn.add_subplot(133)\n",
    "ax3.imshow(true_map, cmap='terrain')\n",
    "ax3.set_title(\"Ground truth map\")"
   ]
  },
  {
   "cell_type": "markdown",
   "id": "08125f41",
   "metadata": {},
   "source": [
    "## D*-Lite Pathplanning\n",
    "This section is implemented in `src/dsl.py`. It is used in the same way as the AStarUpdate planner with the same parameters."
   ]
  },
  {
   "cell_type": "code",
   "execution_count": null,
   "id": "6a82e2d9",
   "metadata": {},
   "outputs": [],
   "source": [
    "from src.dsl import DStarLite\n",
    "\n",
    "known_map = rough_world\n",
    "true_map = fine_world\n",
    "\n",
    "update_step = 1\n",
    "scan_radius = 5\n",
    "err_threshold = math.inf\n",
    "\n",
    "dsl_planner = DStarLite(known_map, true_map, update_step, scan_radius, err_threshold)"
   ]
  },
  {
   "cell_type": "markdown",
   "id": "c4c2fc00",
   "metadata": {},
   "source": [
    "Get path as numpy arrays AFTER calculating path."
   ]
  },
  {
   "cell_type": "code",
   "execution_count": null,
   "id": "c51d11b6",
   "metadata": {},
   "outputs": [],
   "source": [
    "start = time.time()\n",
    "path_dsl = dsl_planner.get_path((10,10), (resolution-10,resolution-10))\n",
    "end = time.time()\n",
    "\n",
    "elapsed_dsl = end - start\n",
    "cost_dsl = fine_grid.calc_path_cost(path_dsl)\n",
    "\n",
    "print(f\"DStarLite path cost = {cost_dsl} in {elapsed_dsl} sec\")"
   ]
  },
  {
   "cell_type": "markdown",
   "id": "b0347df5",
   "metadata": {},
   "source": [
    "Plot path on the terrain, both bird's eye view and 3D view."
   ]
  },
  {
   "cell_type": "code",
   "execution_count": null,
   "id": "91982d1b",
   "metadata": {},
   "outputs": [],
   "source": [
    "arr_dsl = dsl_planner.get_plt_arrays()\n",
    "\n",
    "xx_dsl = arr_dsl[0, :]\n",
    "yy_dsl = arr_dsl[1, :]\n",
    "zz_dsl = arr_dsl[2, :]\n",
    "\n",
    "fig_dsl = plt.figure()\n",
    "fig_dsl.suptitle(\"Terrain with D*-Lite Path\")\n",
    "\n",
    "ax = fig_dsl.add_subplot(121)\n",
    "ax.imshow(true_map,cmap='terrain')\n",
    "ax.plot(yy_dsl,xx_dsl, 'r')\n",
    "ax.plot(yy_dsl[0],xx_dsl[0],'r*')\n",
    "ax.plot(yy_dsl[-1],xx_dsl[-1],'rX')\n",
    "ax.set_title(\"Bird's Eyeview Terrain with Path\")\n",
    "\n",
    "ax3 = fig_dsl.add_subplot(122, projection='3d')\n",
    "ax3.plot_surface(y,x,true_map,cmap='terrain')\n",
    "ax3.plot(xx_dsl,yy_dsl,zz_dsl,'r.')\n",
    "ax3.plot(xx_dsl[0],yy_dsl[0],zz_dsl[0],'r*')\n",
    "ax3.plot(xx_dsl[-1],yy_dsl[-1],zz_dsl[-1],'rX')\n",
    "ax3.set_title('Terrain with Path')"
   ]
  },
  {
   "cell_type": "markdown",
   "id": "1a33997e",
   "metadata": {},
   "source": [
    "Display original map planning was done on, the final map with the updated information, and the ground truth map."
   ]
  },
  {
   "cell_type": "code",
   "execution_count": null,
   "id": "f8fe63a5",
   "metadata": {},
   "outputs": [],
   "source": [
    "final_known_terrain = dsl_planner.known_grid.to_np()\n",
    "\n",
    "fig_learn = plt.figure()\n",
    "fig_learn.suptitle(\"Map of what DSL knows\")\n",
    "ax1 = fig_learn.add_subplot(131)\n",
    "ax1.imshow(known_map, cmap='terrain')\n",
    "ax1.set_title(\"Original known map\")\n",
    "ax2 = fig_learn.add_subplot(132)\n",
    "ax2.imshow(final_known_terrain, cmap='terrain')\n",
    "ax2.set_title(\"Final known map\")\n",
    "ax3 = fig_learn.add_subplot(133)\n",
    "ax3.imshow(true_map, cmap='terrain')\n",
    "ax3.set_title(\"Ground truth map\")"
   ]
  },
  {
   "cell_type": "code",
   "execution_count": null,
   "id": "f85e080e",
   "metadata": {},
   "outputs": [],
   "source": []
  },
  {
   "cell_type": "code",
   "execution_count": null,
   "id": "a097ca57",
   "metadata": {},
   "outputs": [],
   "source": []
  }
 ],
 "metadata": {
  "kernelspec": {
   "display_name": "dsl-sim_env",
   "language": "python",
   "name": "dsl-sim_env"
  },
  "language_info": {
   "codemirror_mode": {
    "name": "ipython",
    "version": 3
   },
   "file_extension": ".py",
   "mimetype": "text/x-python",
   "name": "python",
   "nbconvert_exporter": "python",
   "pygments_lexer": "ipython3",
   "version": "3.11.3"
  }
 },
 "nbformat": 4,
 "nbformat_minor": 5
}
